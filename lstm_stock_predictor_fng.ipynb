{
  "nbformat": 4,
  "nbformat_minor": 0,
  "metadata": {
    "file_extension": ".py",
    "kernelspec": {
      "display_name": "Python 3",
      "language": "python",
      "name": "python3"
    },
    "language_info": {
      "codemirror_mode": {
        "name": "ipython",
        "version": 3
      },
      "file_extension": ".py",
      "mimetype": "text/x-python",
      "name": "python",
      "nbconvert_exporter": "python",
      "pygments_lexer": "ipython3",
      "version": "3.7.10"
    },
    "mimetype": "text/x-python",
    "name": "python",
    "npconvert_exporter": "python",
    "pygments_lexer": "ipython3",
    "version": 3,
    "colab": {
      "name": "lstm_stock_predictor_fng.ipynb",
      "provenance": [],
      "collapsed_sections": [],
      "include_colab_link": true
    }
  },
  "cells": [
    {
      "cell_type": "markdown",
      "metadata": {
        "id": "view-in-github",
        "colab_type": "text"
      },
      "source": [
        "<a href=\"https://colab.research.google.com/github/SGafoor/LSTM-stock-predictor/blob/main/lstm_stock_predictor_fng.ipynb\" target=\"_parent\"><img src=\"https://colab.research.google.com/assets/colab-badge.svg\" alt=\"Open In Colab\"/></a>"
      ]
    },
    {
      "cell_type": "markdown",
      "metadata": {
        "id": "c-w9eGAQ6ILb"
      },
      "source": [
        "# LSTM Stock Predictor Using Fear and Greed Index\n",
        "\n",
        "In this notebook, you will build and train a custom LSTM RNN that uses a 10 day window of Bitcoin fear and greed index values to predict the 11th day closing price. \n",
        "\n",
        "You will need to:\n",
        "\n",
        "1. Prepare the data for training and testing\n",
        "2. Build and train a custom LSTM RNN\n",
        "3. Evaluate the performance of the model"
      ]
    },
    {
      "cell_type": "markdown",
      "metadata": {
        "id": "z0Rg49F-6ILg"
      },
      "source": [
        "## Data Preparation\n",
        "\n",
        "In this section, you will need to prepare the training and testing data for the model. The model will use a rolling 10 day window to predict the 11th day closing price.\n",
        "\n",
        "You will need to:\n",
        "1. Use the `window_data` function to generate the X and y values for the model.\n",
        "2. Split the data into 70% training and 30% testing\n",
        "3. Apply the MinMaxScaler to the X and y values\n",
        "4. Reshape the X_train and X_test data for the model. Note: The required input format for the LSTM is:\n",
        "\n",
        "```python\n",
        "reshape((X_train.shape[0], X_train.shape[1], 1))\n",
        "```"
      ]
    },
    {
      "cell_type": "code",
      "metadata": {
        "id": "A9hQH_GA6ILh"
      },
      "source": [
        "import numpy as np\n",
        "import pandas as pd\n",
        "#import hvplot.pandas"
      ],
      "execution_count": 275,
      "outputs": []
    },
    {
      "cell_type": "code",
      "metadata": {
        "id": "gpcX973B6ILj"
      },
      "source": [
        "# Set the random seed for reproducibility\n",
        "# Note: This is for the homework solution, but it is good practice to comment this out and run multiple experiments to evaluate your model\n",
        "from numpy.random import seed\n",
        "seed(1)\n",
        "from tensorflow import random\n",
        "random.set_seed(2)"
      ],
      "execution_count": 276,
      "outputs": []
    },
    {
      "cell_type": "code",
      "metadata": {
        "colab": {
          "base_uri": "https://localhost:8080/",
          "height": 234
        },
        "id": "VODhLAZE6ILk",
        "outputId": "f5a5328b-52ac-488f-88f3-37a43e401a4f"
      },
      "source": [
        "# Load the fear and greed sentiment data for Bitcoin\n",
        "df = pd.read_csv('btc_sentiment.csv', index_col=\"date\", infer_datetime_format=True, parse_dates=True)\n",
        "df = df.drop(columns=\"fng_classification\")\n",
        "df.head()"
      ],
      "execution_count": 277,
      "outputs": [
        {
          "output_type": "execute_result",
          "data": {
            "text/html": [
              "<div>\n",
              "<style scoped>\n",
              "    .dataframe tbody tr th:only-of-type {\n",
              "        vertical-align: middle;\n",
              "    }\n",
              "\n",
              "    .dataframe tbody tr th {\n",
              "        vertical-align: top;\n",
              "    }\n",
              "\n",
              "    .dataframe thead th {\n",
              "        text-align: right;\n",
              "    }\n",
              "</style>\n",
              "<table border=\"1\" class=\"dataframe\">\n",
              "  <thead>\n",
              "    <tr style=\"text-align: right;\">\n",
              "      <th></th>\n",
              "      <th>fng_value</th>\n",
              "    </tr>\n",
              "    <tr>\n",
              "      <th>date</th>\n",
              "      <th></th>\n",
              "    </tr>\n",
              "  </thead>\n",
              "  <tbody>\n",
              "    <tr>\n",
              "      <th>2019-07-29</th>\n",
              "      <td>19</td>\n",
              "    </tr>\n",
              "    <tr>\n",
              "      <th>2019-07-28</th>\n",
              "      <td>16</td>\n",
              "    </tr>\n",
              "    <tr>\n",
              "      <th>2019-07-27</th>\n",
              "      <td>47</td>\n",
              "    </tr>\n",
              "    <tr>\n",
              "      <th>2019-07-26</th>\n",
              "      <td>24</td>\n",
              "    </tr>\n",
              "    <tr>\n",
              "      <th>2019-07-25</th>\n",
              "      <td>42</td>\n",
              "    </tr>\n",
              "  </tbody>\n",
              "</table>\n",
              "</div>"
            ],
            "text/plain": [
              "             fng_value\n",
              "date                  \n",
              "2019-07-29          19\n",
              "2019-07-28          16\n",
              "2019-07-27          47\n",
              "2019-07-26          24\n",
              "2019-07-25          42"
            ]
          },
          "metadata": {},
          "execution_count": 277
        }
      ]
    },
    {
      "cell_type": "code",
      "metadata": {
        "colab": {
          "base_uri": "https://localhost:8080/"
        },
        "id": "pk1ETOdz6ILl",
        "outputId": "d3455ba5-bee5-48a1-96fe-19a0e888f4d6"
      },
      "source": [
        "# Load the historical closing prices for Bitcoin\n",
        "df2 = pd.read_csv('btc_historic.csv', index_col=\"Date\", infer_datetime_format=True, parse_dates=True)['Close']\n",
        "df2 = df2.sort_index()\n",
        "df2.tail()"
      ],
      "execution_count": 278,
      "outputs": [
        {
          "output_type": "execute_result",
          "data": {
            "text/plain": [
              "Date\n",
              "2019-07-25    9882.429688\n",
              "2019-07-26    9847.450195\n",
              "2019-07-27    9478.320313\n",
              "2019-07-28    9531.769531\n",
              "2019-07-29    9529.889648\n",
              "Name: Close, dtype: float64"
            ]
          },
          "metadata": {},
          "execution_count": 278
        }
      ]
    },
    {
      "cell_type": "code",
      "metadata": {
        "colab": {
          "base_uri": "https://localhost:8080/",
          "height": 203
        },
        "id": "QWKzM2Ui6ILm",
        "outputId": "2fb741b0-9072-479f-c18a-dc94d4e86644"
      },
      "source": [
        "# Join the data into a single DataFrame\n",
        "df = df.join(df2, how=\"inner\")\n",
        "df.tail()"
      ],
      "execution_count": 279,
      "outputs": [
        {
          "output_type": "execute_result",
          "data": {
            "text/html": [
              "<div>\n",
              "<style scoped>\n",
              "    .dataframe tbody tr th:only-of-type {\n",
              "        vertical-align: middle;\n",
              "    }\n",
              "\n",
              "    .dataframe tbody tr th {\n",
              "        vertical-align: top;\n",
              "    }\n",
              "\n",
              "    .dataframe thead th {\n",
              "        text-align: right;\n",
              "    }\n",
              "</style>\n",
              "<table border=\"1\" class=\"dataframe\">\n",
              "  <thead>\n",
              "    <tr style=\"text-align: right;\">\n",
              "      <th></th>\n",
              "      <th>fng_value</th>\n",
              "      <th>Close</th>\n",
              "    </tr>\n",
              "  </thead>\n",
              "  <tbody>\n",
              "    <tr>\n",
              "      <th>2019-07-25</th>\n",
              "      <td>42</td>\n",
              "      <td>9882.429688</td>\n",
              "    </tr>\n",
              "    <tr>\n",
              "      <th>2019-07-26</th>\n",
              "      <td>24</td>\n",
              "      <td>9847.450195</td>\n",
              "    </tr>\n",
              "    <tr>\n",
              "      <th>2019-07-27</th>\n",
              "      <td>47</td>\n",
              "      <td>9478.320313</td>\n",
              "    </tr>\n",
              "    <tr>\n",
              "      <th>2019-07-28</th>\n",
              "      <td>16</td>\n",
              "      <td>9531.769531</td>\n",
              "    </tr>\n",
              "    <tr>\n",
              "      <th>2019-07-29</th>\n",
              "      <td>19</td>\n",
              "      <td>9529.889648</td>\n",
              "    </tr>\n",
              "  </tbody>\n",
              "</table>\n",
              "</div>"
            ],
            "text/plain": [
              "             fng_value        Close\n",
              "2019-07-25          42  9882.429688\n",
              "2019-07-26          24  9847.450195\n",
              "2019-07-27          47  9478.320313\n",
              "2019-07-28          16  9531.769531\n",
              "2019-07-29          19  9529.889648"
            ]
          },
          "metadata": {},
          "execution_count": 279
        }
      ]
    },
    {
      "cell_type": "code",
      "metadata": {
        "colab": {
          "base_uri": "https://localhost:8080/",
          "height": 203
        },
        "id": "KRaO3Hi76ILp",
        "outputId": "707c7710-8729-4528-9d9f-317ab7f2c4e6"
      },
      "source": [
        "df.head()"
      ],
      "execution_count": 280,
      "outputs": [
        {
          "output_type": "execute_result",
          "data": {
            "text/html": [
              "<div>\n",
              "<style scoped>\n",
              "    .dataframe tbody tr th:only-of-type {\n",
              "        vertical-align: middle;\n",
              "    }\n",
              "\n",
              "    .dataframe tbody tr th {\n",
              "        vertical-align: top;\n",
              "    }\n",
              "\n",
              "    .dataframe thead th {\n",
              "        text-align: right;\n",
              "    }\n",
              "</style>\n",
              "<table border=\"1\" class=\"dataframe\">\n",
              "  <thead>\n",
              "    <tr style=\"text-align: right;\">\n",
              "      <th></th>\n",
              "      <th>fng_value</th>\n",
              "      <th>Close</th>\n",
              "    </tr>\n",
              "  </thead>\n",
              "  <tbody>\n",
              "    <tr>\n",
              "      <th>2018-02-01</th>\n",
              "      <td>30</td>\n",
              "      <td>9114.719727</td>\n",
              "    </tr>\n",
              "    <tr>\n",
              "      <th>2018-02-02</th>\n",
              "      <td>15</td>\n",
              "      <td>8870.820313</td>\n",
              "    </tr>\n",
              "    <tr>\n",
              "      <th>2018-02-03</th>\n",
              "      <td>40</td>\n",
              "      <td>9251.269531</td>\n",
              "    </tr>\n",
              "    <tr>\n",
              "      <th>2018-02-04</th>\n",
              "      <td>24</td>\n",
              "      <td>8218.049805</td>\n",
              "    </tr>\n",
              "    <tr>\n",
              "      <th>2018-02-05</th>\n",
              "      <td>11</td>\n",
              "      <td>6937.080078</td>\n",
              "    </tr>\n",
              "  </tbody>\n",
              "</table>\n",
              "</div>"
            ],
            "text/plain": [
              "             fng_value        Close\n",
              "2018-02-01          30  9114.719727\n",
              "2018-02-02          15  8870.820313\n",
              "2018-02-03          40  9251.269531\n",
              "2018-02-04          24  8218.049805\n",
              "2018-02-05          11  6937.080078"
            ]
          },
          "metadata": {},
          "execution_count": 280
        }
      ]
    },
    {
      "cell_type": "code",
      "metadata": {
        "id": "uZ6Sbs0c6ILr"
      },
      "source": [
        "# This function accepts the column number for the features (X) and the target (y)\n",
        "# It chunks the data up with a rolling window of Xt-n to predict Xt\n",
        "# It returns a numpy array of X any y\n",
        "def window_data(df, window, feature_col_number, target_col_number):\n",
        "    X = []\n",
        "    y = []\n",
        "    for i in range(len(df) - window - 1):\n",
        "        features = df.iloc[i:(i + window), feature_col_number]\n",
        "        target = df.iloc[(i + window), target_col_number]\n",
        "        X.append(features)\n",
        "        y.append(target)\n",
        "    return np.array(X), np.array(y).reshape(-1, 1)"
      ],
      "execution_count": 281,
      "outputs": []
    },
    {
      "cell_type": "code",
      "metadata": {
        "id": "-7PSckF_6ILt"
      },
      "source": [
        "# Predict Closing Prices using a 10 day window of previous fng values\n",
        "# Then, experiment with window sizes anywhere from 1 to 10 and see how the model performance changes\n",
        "window_size = 2\n",
        "\n",
        "# Column index 0 is the 'fng_value' column\n",
        "# Column index 1 is the `Close` column\n",
        "feature_column = 0\n",
        "target_column = 1\n",
        "X, y = window_data(df, window_size, feature_column, target_column)"
      ],
      "execution_count": 282,
      "outputs": []
    },
    {
      "cell_type": "code",
      "metadata": {
        "id": "hNFm6CeG6ILt"
      },
      "source": [
        "# Use 70% of the data for training and the remainder for testing\n",
        "from sklearn.model_selection import train_test_split\n",
        "#training_data,testing_data= train_test_split(df,test_size=0.25, random_state=50)\n",
        "#print(f\"No. of training examples: {training_data.shape[0]}\")\n",
        "#print(f\"No. of testing examples: {testing_data.shape[0]}\")"
      ],
      "execution_count": 283,
      "outputs": []
    },
    {
      "cell_type": "code",
      "metadata": {
        "id": "XGt3VRJ26ILu"
      },
      "source": [
        "split = int(0.7 * len(X))\n",
        "X_train = X[: split]\n",
        "X_test = X[split:]\n",
        "y_train = y[: split]\n",
        "y_test = y[split:]"
      ],
      "execution_count": 284,
      "outputs": []
    },
    {
      "cell_type": "code",
      "metadata": {
        "id": "QSZTQa_W6ILu"
      },
      "source": [
        "from sklearn.preprocessing import MinMaxScaler\n",
        "# Use the MinMaxScaler to scale data between 0 and 1.\n",
        "# YOUR CODE HERE!\n",
        "x_train_scaler = MinMaxScaler()\n",
        "x_test_scaler = MinMaxScaler()\n",
        "y_train_scaler = MinMaxScaler()\n",
        "y_test_scaler = MinMaxScaler()\n",
        "# Fit the scaler for the Training Data\n",
        "x_train_scaler.fit(X_train)\n",
        "y_train_scaler.fit(y_train)\n",
        "# Scale the training data\n",
        "X_train = x_train_scaler.transform(X_train)\n",
        "y_train = y_train_scaler.transform(y_train)\n",
        "# Fit the scaler for the Testing Data\n",
        "x_test_scaler.fit(X_test)\n",
        "y_test_scaler.fit(y_test)\n",
        "# Scale the y_test data\n",
        "X_test = x_test_scaler.transform(X_test)\n",
        "y_test = y_test_scaler.transform(y_test)"
      ],
      "execution_count": 285,
      "outputs": []
    },
    {
      "cell_type": "code",
      "metadata": {
        "id": "IAtOez7m6ILv"
      },
      "source": [
        "# Reshape the features for the model\n",
        "X_train = X_train.reshape((X_train.shape[0], X_train.shape[1], 1))\n",
        "X_test = X_test.reshape((X_test.shape[0], X_test.shape[1], 1))"
      ],
      "execution_count": 286,
      "outputs": []
    },
    {
      "cell_type": "markdown",
      "metadata": {
        "id": "s7YGYGhQ6ILw"
      },
      "source": [
        "---"
      ]
    },
    {
      "cell_type": "markdown",
      "metadata": {
        "id": "6PPE3KaO6ILw"
      },
      "source": [
        "## Build and Train the LSTM RNN\n",
        "\n",
        "In this section, you will design a custom LSTM RNN and fit (train) it using the training data.\n",
        "\n",
        "You will need to:\n",
        "1. Define the model architecture\n",
        "2. Compile the model\n",
        "3. Fit the model to the training data\n",
        "\n",
        "### Hints:\n",
        "You will want to use the same model architecture and random seed for both notebooks. This is necessary to accurately compare the performance of the FNG model vs the closing price model. "
      ]
    },
    {
      "cell_type": "code",
      "metadata": {
        "id": "2gwRbLAH6ILx"
      },
      "source": [
        "from tensorflow.keras.models import Sequential\n",
        "from tensorflow.keras.layers import LSTM, Dense, Dropout\n",
        "import tensorflow as tf"
      ],
      "execution_count": 287,
      "outputs": []
    },
    {
      "cell_type": "code",
      "metadata": {
        "id": "58Bs-EKr6ILx"
      },
      "source": [
        "# Build the LSTM model. \n",
        "# The return sequences need to be set to True if you are adding additional LSTM layers, but \n",
        "# You don't have to do this for the final layer. \n",
        "# Note: The dropouts help prevent overfitting\n",
        "# Note: The input shape is the number of time steps and the number of indicators\n",
        "# Note: Batching inputs has a different input shape of Samples/TimeSteps/Features\n",
        "\n",
        "model=Sequential()\n",
        "\n",
        "# Initial model setup\n",
        "number_units = 5\n",
        "dropout_fraction = 0.2\n",
        "# Layer 1\n",
        "model.add(LSTM(\n",
        "    units=number_units,\n",
        "    return_sequences=True,\n",
        "    input_shape=(X_train.shape[1], 1))\n",
        "    )\n",
        "model.add(Dropout(dropout_fraction))\n",
        "# Layer 2\n",
        "model.add(LSTM(units=number_units, return_sequences=True))\n",
        "model.add(Dropout(dropout_fraction))\n",
        "# Layer 3\n",
        "model.add(LSTM(units=number_units))\n",
        "model.add(Dropout(dropout_fraction))\n",
        "# Output layer\n",
        "model.add(Dense(1))"
      ],
      "execution_count": 288,
      "outputs": []
    },
    {
      "cell_type": "code",
      "metadata": {
        "id": "LEag2AEU6ILy"
      },
      "source": [
        "model.compile(optimizer=\"adam\", loss='mean_squared_error')"
      ],
      "execution_count": 289,
      "outputs": []
    },
    {
      "cell_type": "code",
      "metadata": {
        "colab": {
          "base_uri": "https://localhost:8080/"
        },
        "id": "pPJLLiob6ILy",
        "outputId": "6d6d9a88-749d-463b-9fb8-f358af4eabb2"
      },
      "source": [
        "# Summarize the model\n",
        "model.summary()"
      ],
      "execution_count": 290,
      "outputs": [
        {
          "output_type": "stream",
          "text": [
            "Model: \"sequential_13\"\n",
            "_________________________________________________________________\n",
            "Layer (type)                 Output Shape              Param #   \n",
            "=================================================================\n",
            "lstm_39 (LSTM)               (None, 2, 5)              140       \n",
            "_________________________________________________________________\n",
            "dropout_39 (Dropout)         (None, 2, 5)              0         \n",
            "_________________________________________________________________\n",
            "lstm_40 (LSTM)               (None, 2, 5)              220       \n",
            "_________________________________________________________________\n",
            "dropout_40 (Dropout)         (None, 2, 5)              0         \n",
            "_________________________________________________________________\n",
            "lstm_41 (LSTM)               (None, 5)                 220       \n",
            "_________________________________________________________________\n",
            "dropout_41 (Dropout)         (None, 5)                 0         \n",
            "_________________________________________________________________\n",
            "dense_13 (Dense)             (None, 1)                 6         \n",
            "=================================================================\n",
            "Total params: 586\n",
            "Trainable params: 586\n",
            "Non-trainable params: 0\n",
            "_________________________________________________________________\n"
          ],
          "name": "stdout"
        }
      ]
    },
    {
      "cell_type": "code",
      "metadata": {
        "colab": {
          "base_uri": "https://localhost:8080/"
        },
        "id": "4LAyH7xO6ILy",
        "outputId": "6ee74fbc-b451-4d57-a9af-692dd1bb2e6b"
      },
      "source": [
        "# Train the model\n",
        "# Use at least 10 epochs\n",
        "# Do not shuffle the data\n",
        "# Experiement with the batch size, but a smaller batch size is recommended\n",
        "\n",
        "model.fit(X_train,y_train,epochs=10,shuffle=False,batch_size=1,verbose=1)"
      ],
      "execution_count": 291,
      "outputs": [
        {
          "output_type": "stream",
          "text": [
            "Epoch 1/10\n",
            "378/378 [==============================] - 5s 4ms/step - loss: 0.1038\n",
            "Epoch 2/10\n",
            "378/378 [==============================] - 2s 4ms/step - loss: 0.0554\n",
            "Epoch 3/10\n",
            "378/378 [==============================] - 2s 4ms/step - loss: 0.0559\n",
            "Epoch 4/10\n",
            "378/378 [==============================] - 2s 4ms/step - loss: 0.0485\n",
            "Epoch 5/10\n",
            "378/378 [==============================] - 2s 4ms/step - loss: 0.0486\n",
            "Epoch 6/10\n",
            "378/378 [==============================] - 2s 4ms/step - loss: 0.0456\n",
            "Epoch 7/10\n",
            "378/378 [==============================] - 2s 4ms/step - loss: 0.0440\n",
            "Epoch 8/10\n",
            "378/378 [==============================] - 2s 4ms/step - loss: 0.0421\n",
            "Epoch 9/10\n",
            "378/378 [==============================] - 2s 4ms/step - loss: 0.0433\n",
            "Epoch 10/10\n",
            "378/378 [==============================] - 2s 4ms/step - loss: 0.0434\n"
          ],
          "name": "stdout"
        },
        {
          "output_type": "execute_result",
          "data": {
            "text/plain": [
              "<keras.callbacks.History at 0x7fa6d7910b90>"
            ]
          },
          "metadata": {},
          "execution_count": 291
        }
      ]
    },
    {
      "cell_type": "markdown",
      "metadata": {
        "id": "ozV9U2Xi6ILz"
      },
      "source": [
        "---"
      ]
    },
    {
      "cell_type": "markdown",
      "metadata": {
        "id": "8KaV0Xpp6ILz"
      },
      "source": [
        "## Model Performance\n",
        "\n",
        "In this section, you will evaluate the model using the test data. \n",
        "\n",
        "You will need to:\n",
        "1. Evaluate the model using the `X_test` and `y_test` data.\n",
        "2. Use the X_test data to make predictions\n",
        "3. Create a DataFrame of Real (y_test) vs predicted values. \n",
        "4. Plot the Real vs predicted values as a line chart\n",
        "\n",
        "### Hints\n",
        "Remember to apply the `inverse_transform` function to the predicted and y_test values to recover the actual closing prices."
      ]
    },
    {
      "cell_type": "code",
      "metadata": {
        "id": "ngNYTsHk6ILz",
        "colab": {
          "base_uri": "https://localhost:8080/"
        },
        "outputId": "ef4ebba1-2e61-4e04-c3f1-979489633652"
      },
      "source": [
        "# Evaluate the model\n",
        "scores=model.evaluate(X_test, y_test,verbose=1)\n",
        "\n"
      ],
      "execution_count": 292,
      "outputs": [
        {
          "output_type": "stream",
          "text": [
            "6/6 [==============================] - 1s 3ms/step - loss: 0.0994\n"
          ],
          "name": "stdout"
        }
      ]
    },
    {
      "cell_type": "code",
      "metadata": {
        "id": "l0rc30uC6IL0"
      },
      "source": [
        "# Make some predictions\n",
        "predicted=model.predict(X_test)"
      ],
      "execution_count": 293,
      "outputs": []
    },
    {
      "cell_type": "code",
      "metadata": {
        "id": "MTieNghK6IL0"
      },
      "source": [
        "# Recover the original prices instead of the scaled version\n",
        "predicted_prices = y_test_scaler.inverse_transform(predicted)\n",
        "real_prices = y_test_scaler.inverse_transform(y_test.reshape(-1, 1))"
      ],
      "execution_count": 294,
      "outputs": []
    },
    {
      "cell_type": "code",
      "metadata": {
        "id": "0Xgzq1z86IL0",
        "colab": {
          "base_uri": "https://localhost:8080/",
          "height": 203
        },
        "outputId": "70f4f6cf-af53-4f6e-87d4-19e796367723"
      },
      "source": [
        "# Create a DataFrame of Real and Predicted values\n",
        "stocks = pd.DataFrame({\n",
        "    \"Real\": real_prices.ravel(),\n",
        "    \"Predicted\": predicted_prices.ravel()\n",
        "}, index = df.index[-len(real_prices): ]) \n",
        "stocks.head()"
      ],
      "execution_count": 295,
      "outputs": [
        {
          "output_type": "execute_result",
          "data": {
            "text/html": [
              "<div>\n",
              "<style scoped>\n",
              "    .dataframe tbody tr th:only-of-type {\n",
              "        vertical-align: middle;\n",
              "    }\n",
              "\n",
              "    .dataframe tbody tr th {\n",
              "        vertical-align: top;\n",
              "    }\n",
              "\n",
              "    .dataframe thead th {\n",
              "        text-align: right;\n",
              "    }\n",
              "</style>\n",
              "<table border=\"1\" class=\"dataframe\">\n",
              "  <thead>\n",
              "    <tr style=\"text-align: right;\">\n",
              "      <th></th>\n",
              "      <th>Real</th>\n",
              "      <th>Predicted</th>\n",
              "    </tr>\n",
              "  </thead>\n",
              "  <tbody>\n",
              "    <tr>\n",
              "      <th>2019-02-18</th>\n",
              "      <td>3670.919922</td>\n",
              "      <td>4986.378906</td>\n",
              "    </tr>\n",
              "    <tr>\n",
              "      <th>2019-02-19</th>\n",
              "      <td>3912.570068</td>\n",
              "      <td>4908.077148</td>\n",
              "    </tr>\n",
              "    <tr>\n",
              "      <th>2019-02-20</th>\n",
              "      <td>3924.239990</td>\n",
              "      <td>5070.308594</td>\n",
              "    </tr>\n",
              "    <tr>\n",
              "      <th>2019-02-21</th>\n",
              "      <td>3974.050049</td>\n",
              "      <td>5837.298828</td>\n",
              "    </tr>\n",
              "    <tr>\n",
              "      <th>2019-02-22</th>\n",
              "      <td>3937.040039</td>\n",
              "      <td>5830.120117</td>\n",
              "    </tr>\n",
              "  </tbody>\n",
              "</table>\n",
              "</div>"
            ],
            "text/plain": [
              "                   Real    Predicted\n",
              "2019-02-18  3670.919922  4986.378906\n",
              "2019-02-19  3912.570068  4908.077148\n",
              "2019-02-20  3924.239990  5070.308594\n",
              "2019-02-21  3974.050049  5837.298828\n",
              "2019-02-22  3937.040039  5830.120117"
            ]
          },
          "metadata": {},
          "execution_count": 295
        }
      ]
    },
    {
      "cell_type": "code",
      "metadata": {
        "id": "G8paFR3O6IL2",
        "colab": {
          "base_uri": "https://localhost:8080/",
          "height": 293
        },
        "outputId": "1896ddf5-c55e-4136-ff04-65d6654574a6"
      },
      "source": [
        "# Plot the real vs predicted values as a line chart\n",
        "stocks.plot(title='Predicted vs. Actual BTC');"
      ],
      "execution_count": 296,
      "outputs": [
        {
          "output_type": "display_data",
          "data": {
            "image/png": "[encoded data removed]",
            "text/plain": [
              "<Figure size 432x288 with 1 Axes>"
            ]
          },
          "metadata": {
            "needs_background": "light"
          }
        }
      ]
    },
    {
      "cell_type": "markdown",
      "metadata": {
        "id": "qxacL3pzcAGU"
      },
      "source": [
        "1. Which model has a lower loss?\n",
        "\n",
        "The closing price predictor has the lower loss though both were tested and the values seemed very similar.\n",
        "\n",
        "2. Which model tracks the actual values? \n",
        "\n",
        "The closing price predictor tracks the actual values.\n",
        "\n",
        "3. Which window size works best for the model?\n",
        "\n",
        "Window size #3"
      ]
    },
    {
      "cell_type": "code",
      "metadata": {
        "id": "5grfhPjb6IL2"
      },
      "source": [
        ""
      ],
      "execution_count": null,
      "outputs": []
    }
  ]
}